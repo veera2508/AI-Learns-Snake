{
 "metadata": {
  "language_info": {
   "codemirror_mode": {
    "name": "ipython",
    "version": 3
   },
   "file_extension": ".py",
   "mimetype": "text/x-python",
   "name": "python",
   "nbconvert_exporter": "python",
   "pygments_lexer": "ipython3",
   "version": "3.8.3-final"
  },
  "orig_nbformat": 2,
  "kernelspec": {
   "name": "python38364bitd28d5bfd303b43519c8e7d8f134c3bbd",
   "display_name": "Python 3.8.3 64-bit"
  }
 },
 "nbformat": 4,
 "nbformat_minor": 2,
 "cells": [
  {
   "cell_type": "code",
   "execution_count": 1,
   "metadata": {
    "tags": []
   },
   "outputs": [
    {
     "output_type": "stream",
     "name": "stdout",
     "text": "pygame 2.0.0.dev6 (SDL 2.0.10, python 3.8.3)\nHello from the pygame community. https://www.pygame.org/contribute.html\n2.2.0\n"
    }
   ],
   "source": [
    "import time\n",
    "import tensorflow as tf\n",
    "import numpy as np\n",
    "import pygame\n",
    "import random\n",
    "import itertools\n",
    "from collections import defaultdict\n",
    "from tensorflow.keras.layers import Dense\n",
    "from tensorflow.keras.optimizers import Adam, RMSprop\n",
    "from IPython.display import clear_output\n",
    "\n",
    "#dynamic memory allocation\n",
    "gpus = tf.config.experimental.list_physical_devices('GPU')\n",
    "tf.config.experimental.set_memory_growth(gpus[0], True)\n",
    "print(tf.__version__)"
   ]
  },
  {
   "cell_type": "code",
   "execution_count": 2,
   "metadata": {},
   "outputs": [],
   "source": [
    "class snek:\n",
    "\n",
    "    def __init__(self, size):\n",
    "        self.size = size\n",
    "        self.rewards = None\n",
    "        self.action_space_size = 4\n",
    "        self.actions = [0, 1, 2, 3]\n",
    "        self.cstate = None\n",
    "        self.dis = None\n",
    "        self.snake = None\n",
    "        self.food = None\n",
    "        self.scolor = (0, 0, 255)\n",
    "        self.fcolor = (255, 0, 0)\n",
    "    \n",
    "    def reset(self):\n",
    "        self.snake = []\n",
    "        state = np.zeros((self.size, self.size))\n",
    "        size = self.size\n",
    "        x = random.randint(0, size - 1)\n",
    "        y = random.randint(0, size - 1)\n",
    "        foodx = random.randint(0, size - 1)\n",
    "        foody = random.randint(0, size - 1) \n",
    "        self.food = (foodx, foody)\n",
    "        self.snake.append((x, y))\n",
    "        self.cstate = state\n",
    "        return state\n",
    "    def step(self, action):\n",
    "        pass"
   ]
  },
  {
   "cell_type": "code",
   "execution_count": 3,
   "metadata": {},
   "outputs": [],
   "source": [
    "env = snek(64)"
   ]
  },
  {
   "cell_type": "code",
   "execution_count": 4,
   "metadata": {},
   "outputs": [],
   "source": [
    "pygame.init()\n",
    "dis = pygame.display.set_mode((640, 640))\n",
    "pygame.display.set_caption(\"AI Learns to play Snake\")\n",
    "icon = pygame.image.load('/home/veeraraghavan/Desktop/DQL-Snake/Images/snake.png')\n",
    "pygame.display.set_icon(icon)\n",
    "gameover = False\n",
    "while gameover != True:\n",
    "    state = env.reset()\n",
    "    dis.fill((0, 0, 0))\n",
    "    for event in pygame.event.get():\n",
    "        if event.type == pygame.QUIT:\n",
    "            gameover = True\n",
    "    for square in env.snake:\n",
    "        pygame.draw.rect(dis, env.scolor, [square[1] * 10, square[0] * 10, 10, 10])\n",
    "    pygame.draw.rect(dis, env.fcolor, [env.food[1] * 10, env.food[0] * 10, 10, 10])\n",
    "    pygame.display.update()\n",
    "    time.sleep(5)\n",
    "pygame.quit()\n"
   ]
  },
  {
   "cell_type": "code",
   "execution_count": 20,
   "metadata": {},
   "outputs": [],
   "source": [
    "pygame.quit()\n"
   ]
  },
  {
   "cell_type": "code",
   "execution_count": null,
   "metadata": {},
   "outputs": [],
   "source": []
  }
 ]
}